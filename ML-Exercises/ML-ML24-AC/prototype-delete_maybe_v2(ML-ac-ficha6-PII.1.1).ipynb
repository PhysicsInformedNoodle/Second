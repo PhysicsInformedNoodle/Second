{
 "cells": [
  {
   "cell_type": "code",
   "execution_count": null,
   "metadata": {},
   "outputs": [],
   "source": [
    "import tensorflow as tf\n",
    "from tensorflow.keras.layers import Input, Dense\n",
    "from tensorflow.keras.models import Model\n",
    "\n",
    "# Encoder architecture\n",
    "inputs = Input(shape=(64, 1))\n",
    "flatten = tf.keras.layers.Flatten()(inputs)  # Flatten input for fully connected layers\n",
    "\n",
    "# Layer 1\n",
    "encoded = Dense(32, activation='relu')(flatten)\n",
    "# Layer 2\n",
    "encoded = Dense(16, activation='relu')(encoded)\n",
    "# Layer 3\n",
    "encoded_output = Dense(8, activation='relu')(encoded)\n",
    "\n",
    "# Create the encoder model\n",
    "encoder = Model(inputs, encoded_output, name='encoder')\n",
    "\n",
    "# Decoder architecture\n",
    "decoder_input = Input(shape=(8,))\n",
    "\n",
    "# Layer 1\n",
    "decoded = Dense(16, activation='relu')(decoder_input)\n",
    "# Layer 2\n",
    "decoded = Dense(32, activation='relu')(decoded)\n",
    "# Layer 3 (output layer)\n",
    "decoded_output = Dense(64, activation='sigmoid')(decoded)\n",
    "\n",
    "# Create the decoder model\n",
    "decoder = Model(decoder_input, decoded_output, name='decoder')\n",
    "\n",
    "# Autoencoder architecture\n",
    "autoencoder_input = Input(shape=(64, 1))\n",
    "encoded_repr = encoder(autoencoder_input)\n",
    "decoded_repr = decoder(encoded_repr)\n",
    "\n",
    "# Create the complete autoencoder model\n",
    "autoencoder = Model(autoencoder_input, decoded_repr, name='autoencoder')\n",
    "\n",
    "# Compile the models\n",
    "autoencoder.compile(optimizer='adam', loss='mse')\n",
    "\n",
    "# Summarize the models for inspection\n",
    "encoder.summary()\n",
    "decoder.summary()\n",
    "autoencoder.summary()\n"
   ]
  }
 ],
 "metadata": {
  "language_info": {
   "name": "python"
  }
 },
 "nbformat": 4,
 "nbformat_minor": 2
}
