{
 "cells": [
  {
   "cell_type": "markdown",
   "metadata": {},
   "source": [
    "# Part II – Feedforward NNs, Autoencoders and Convolutional NNs\n",
    "\n",
    "## This is a modification of previous notebook. Modifications: \n",
    "\n",
    "- Based on: `ML-ac-ficha6-PII-2.2.ipynb`\n",
    "\n",
    "**Changes:**\n",
    "    - Applying it for decision trees."
   ]
  },
  {
   "cell_type": "markdown",
   "metadata": {},
   "source": [
    "**Data import:**"
   ]
  },
  {
   "cell_type": "code",
   "execution_count": null,
   "metadata": {},
   "outputs": [],
   "source": [
    "from tensorflow.keras.datasets import mnist\n",
    "from tensorflow.keras.utils import to_categorical\n",
    "\n",
    "(train_images, train_labels), (test_images, test_labels) =mnist.load_data()\n",
    "# Normalize the images to the range [0, 1]\n",
    "train_images = train_images.reshape((60000, 28, 28, 1)).astype('float32') / 255\n",
    "test_images = test_images.reshape((10000, 28, 28, 1)).astype('float32') / 255\n",
    "# Convert the labels to one-hot encoded vectors\n",
    "train_labels = to_categorical(train_labels)\n",
    "test_labels = to_categorical(test_labels)"
   ]
  },
  {
   "cell_type": "markdown",
   "metadata": {},
   "source": [
    "**Neural Network:**"
   ]
  },
  {
   "cell_type": "code",
   "execution_count": null,
   "metadata": {},
   "outputs": [],
   "source": [
    "import numpy as np\n",
    "import matplotlib.pyplot as plt\n",
    "from tensorflow.keras.models import Model\n",
    "from tensorflow.keras.layers import Input, Dense, Flatten, Reshape"
   ]
  },
  {
   "cell_type": "code",
   "execution_count": null,
   "metadata": {},
   "outputs": [],
   "source": [
    "\n",
    "# ENCODER #\n",
    "# Define input layer\n",
    "encoder_input = Input(shape=(28, 28, 1))\n",
    "# Define the decoder layers\n",
    "z = encoder_input\n",
    "z = Flatten()(z)\n",
    "z = Dense(64, activation='relu')(z)\n",
    "z = Dense(10, activation='relu')(z)\n",
    "encoder_layer = z \n",
    "encoder = Model(encoder_input, encoder_layer)\n",
    "\n",
    "# DECODER #\n",
    "## Input\n",
    "decoder_input = Input(shape=encoder_layer.shape[1:])\n",
    "##  Layers\n",
    "y = decoder_input\n",
    "y = Dense(64, activation='relu')(y)\n",
    "y = Dense(784, activation='relu')(y)\n",
    "y = Reshape((28, 28, 1))(y)\n",
    "decoder_layer = y\n",
    "## Model\n",
    "decoder = Model(decoder_input, decoder_layer)\n",
    "\n",
    "# AUTOENCODER #\n",
    "## Model\n",
    "autoencoder = Model(encoder_input, decoder(encoder(encoder_input)))\n",
    "model = autoencoder\n",
    "model.summary()\n",
    "model.compile(optimizer='adam', loss='mean_squared_error', metrics=['accuracy'])\n",
    "\n",
    "# Train the model\n",
    "history = model.fit(train_images, train_images, epochs=5, batch_size=64, validation_split=0.2)"
   ]
  },
  {
   "cell_type": "code",
   "execution_count": null,
   "metadata": {},
   "outputs": [],
   "source": []
  }
 ],
 "metadata": {
  "kernelspec": {
   "display_name": "Python 3",
   "language": "python",
   "name": "python3"
  },
  "language_info": {
   "codemirror_mode": {
    "name": "ipython",
    "version": 3
   },
   "file_extension": ".py",
   "mimetype": "text/x-python",
   "name": "python",
   "nbconvert_exporter": "python",
   "pygments_lexer": "ipython3",
   "version": "3.11.8"
  }
 },
 "nbformat": 4,
 "nbformat_minor": 2
}
