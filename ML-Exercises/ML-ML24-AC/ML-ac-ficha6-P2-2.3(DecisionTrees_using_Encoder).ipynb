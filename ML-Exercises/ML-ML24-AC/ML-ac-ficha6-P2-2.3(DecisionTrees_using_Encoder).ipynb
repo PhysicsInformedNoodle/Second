{
 "cells": [
  {
   "cell_type": "markdown",
   "metadata": {},
   "source": [
    "# Part II – Feedforward NNs, Autoencoders and Convolutional NNs\n",
    "\n",
    "## This is a modification of previous notebook. Modifications: \n",
    "\n",
    "- Based on: `ML-ac-ficha6-PII-2.2.ipynb`\n",
    "\n",
    "**Changes:**\n",
    "    - Applying it for decision trees."
   ]
  },
  {
   "cell_type": "markdown",
   "metadata": {},
   "source": [
    "**Data import:**"
   ]
  },
  {
   "cell_type": "code",
   "execution_count": 1,
   "metadata": {},
   "outputs": [
    {
     "name": "stdout",
     "output_type": "stream",
     "text": [
      "WARNING:tensorflow:From c:\\Users\\pp\\AppData\\Local\\Programs\\Python\\Python311\\Lib\\site-packages\\keras\\src\\losses.py:2976: The name tf.losses.sparse_softmax_cross_entropy is deprecated. Please use tf.compat.v1.losses.sparse_softmax_cross_entropy instead.\n",
      "\n"
     ]
    }
   ],
   "source": [
    "from tensorflow.keras.datasets import mnist\n",
    "from tensorflow.keras.utils import to_categorical\n",
    "\n",
    "(train_images, train_labels), (test_images, test_labels) =mnist.load_data()\n",
    "# Normalize the images to the range [0, 1]\n",
    "train_images = train_images.reshape((60000, 28, 28, 1)).astype('float32') / 255\n",
    "test_images = test_images.reshape((10000, 28, 28, 1)).astype('float32') / 255\n",
    "# Convert the labels to one-hot encoded vectors\n",
    "train_labels = to_categorical(train_labels)\n",
    "test_labels = to_categorical(test_labels)"
   ]
  },
  {
   "cell_type": "markdown",
   "metadata": {},
   "source": [
    "**Neural Network:**"
   ]
  },
  {
   "cell_type": "code",
   "execution_count": 2,
   "metadata": {},
   "outputs": [],
   "source": [
    "import numpy as np\n",
    "import matplotlib.pyplot as plt\n",
    "from tensorflow.keras.models import Model\n",
    "from tensorflow.keras.layers import Input, Dense, Flatten, Reshape"
   ]
  },
  {
   "cell_type": "code",
   "execution_count": 3,
   "metadata": {},
   "outputs": [
    {
     "name": "stdout",
     "output_type": "stream",
     "text": [
      "WARNING:tensorflow:From c:\\Users\\pp\\AppData\\Local\\Programs\\Python\\Python311\\Lib\\site-packages\\keras\\src\\backend.py:1398: The name tf.executing_eagerly_outside_functions is deprecated. Please use tf.compat.v1.executing_eagerly_outside_functions instead.\n",
      "\n",
      "Model: \"model_2\"\n",
      "_________________________________________________________________\n",
      " Layer (type)                Output Shape              Param #   \n",
      "=================================================================\n",
      " input_1 (InputLayer)        [(None, 28, 28, 1)]       0         \n",
      "                                                                 \n",
      " model (Functional)          (None, 10)                50890     \n",
      "                                                                 \n",
      " model_1 (Functional)        (None, 28, 28, 1)         51664     \n",
      "                                                                 \n",
      "=================================================================\n",
      "Total params: 102554 (400.60 KB)\n",
      "Trainable params: 102554 (400.60 KB)\n",
      "Non-trainable params: 0 (0.00 Byte)\n",
      "_________________________________________________________________\n",
      "WARNING:tensorflow:From c:\\Users\\pp\\AppData\\Local\\Programs\\Python\\Python311\\Lib\\site-packages\\keras\\src\\optimizers\\__init__.py:309: The name tf.train.Optimizer is deprecated. Please use tf.compat.v1.train.Optimizer instead.\n",
      "\n",
      "Epoch 1/5\n",
      "WARNING:tensorflow:From c:\\Users\\pp\\AppData\\Local\\Programs\\Python\\Python311\\Lib\\site-packages\\keras\\src\\utils\\tf_utils.py:492: The name tf.ragged.RaggedTensorValue is deprecated. Please use tf.compat.v1.ragged.RaggedTensorValue instead.\n",
      "\n",
      "WARNING:tensorflow:From c:\\Users\\pp\\AppData\\Local\\Programs\\Python\\Python311\\Lib\\site-packages\\keras\\src\\engine\\base_layer_utils.py:384: The name tf.executing_eagerly_outside_functions is deprecated. Please use tf.compat.v1.executing_eagerly_outside_functions instead.\n",
      "\n",
      "750/750 [==============================] - 6s 7ms/step - loss: 0.0405 - accuracy: 0.8048 - val_loss: 0.0329 - val_accuracy: 0.8083\n",
      "Epoch 2/5\n",
      "750/750 [==============================] - 5s 7ms/step - loss: 0.0312 - accuracy: 0.8077 - val_loss: 0.0300 - val_accuracy: 0.8087\n",
      "Epoch 3/5\n",
      "750/750 [==============================] - 4s 5ms/step - loss: 0.0292 - accuracy: 0.8083 - val_loss: 0.0284 - val_accuracy: 0.8091\n",
      "Epoch 4/5\n",
      "750/750 [==============================] - 4s 5ms/step - loss: 0.0279 - accuracy: 0.8086 - val_loss: 0.0277 - val_accuracy: 0.8096\n",
      "Epoch 5/5\n",
      "750/750 [==============================] - 4s 5ms/step - loss: 0.0273 - accuracy: 0.8088 - val_loss: 0.0270 - val_accuracy: 0.8095\n"
     ]
    }
   ],
   "source": [
    "\n",
    "# ENCODER #\n",
    "# Define input layer\n",
    "encoder_input = Input(shape=(28, 28, 1))\n",
    "# Define the decoder layers\n",
    "z = encoder_input\n",
    "z = Flatten()(z)\n",
    "z = Dense(64, activation='relu')(z)\n",
    "z = Dense(10, activation='relu')(z)\n",
    "encoder_layer = z \n",
    "encoder = Model(encoder_input, encoder_layer)\n",
    "\n",
    "# DECODER #\n",
    "## Input\n",
    "decoder_input = Input(shape=encoder_layer.shape[1:])\n",
    "##  Layers\n",
    "y = decoder_input\n",
    "y = Dense(64, activation='relu')(y)\n",
    "y = Dense(784, activation='relu')(y)\n",
    "y = Reshape((28, 28, 1))(y)\n",
    "decoder_layer = y\n",
    "## Model\n",
    "decoder = Model(decoder_input, decoder_layer)\n",
    "\n",
    "# AUTOENCODER #\n",
    "## Model\n",
    "autoencoder = Model(encoder_input, decoder(encoder(encoder_input)))\n",
    "model = autoencoder\n",
    "model.summary()\n",
    "model.compile(optimizer='adam', loss='mean_squared_error', metrics=['accuracy'])\n",
    "\n",
    "# Train the model\n",
    "history = model.fit(train_images, train_images, epochs=5, batch_size=64, validation_split=0.2)"
   ]
  },
  {
   "cell_type": "markdown",
   "metadata": {},
   "source": [
    "# Decision Tree Part"
   ]
  },
  {
   "cell_type": "code",
   "execution_count": 4,
   "metadata": {},
   "outputs": [],
   "source": [
    "from sklearn.tree import DecisionTreeClassifier\n",
    "from sklearn.metrics import accuracy_score, classification_report"
   ]
  },
  {
   "cell_type": "markdown",
   "metadata": {},
   "source": [
    "**Load features:**"
   ]
  },
  {
   "cell_type": "code",
   "execution_count": 16,
   "metadata": {},
   "outputs": [
    {
     "name": "stdout",
     "output_type": "stream",
     "text": [
      "1875/1875 [==============================] - 4s 2ms/step\n",
      "313/313 [==============================] - 1s 2ms/step\n"
     ]
    }
   ],
   "source": [
    "# Extract features using the encoder model\n",
    "train_features = encoder.predict(train_images)\n",
    "test_features = encoder.predict(test_images)"
   ]
  },
  {
   "cell_type": "code",
   "execution_count": 22,
   "metadata": {},
   "outputs": [
    {
     "name": "stdout",
     "output_type": "stream",
     "text": [
      "Shape of the original images data: (60000, 28, 28, 1)\n",
      "Shape of the original labels data: (60000, 10)\n",
      "Shape of the encoded image data: (60000, 10)\n"
     ]
    }
   ],
   "source": [
    "# Claryifying the shape of the original data.\n",
    "print(f\"Shape of the original images data: {train_images.shape}\")\n",
    "# Claryifying the shape of the original labels.\n",
    "print(f\"Shape of the original labels data: {train_labels.shape}\")\n",
    "# Claryifying the shape of the original data.\n",
    "print(f\"Shape of the encoded image data: {train_features.shape}\")"
   ]
  },
  {
   "cell_type": "markdown",
   "metadata": {},
   "source": [
    "Remember that we one-hot encoded our data. Therefore now we undo one-hot encodding, which we do by using the np.argmax function.\n",
    "\n",
    "Details: Before our labels were something like `[ 9 9 0 1 7 2 ...]`"
   ]
  },
  {
   "cell_type": "code",
   "execution_count": 35,
   "metadata": {},
   "outputs": [
    {
     "name": "stdout",
     "output_type": "stream",
     "text": [
      "[5 0 4 ... 5 6 8]\n",
      "[7 2 1 ... 4 5 6]\n",
      "(60000, 10)\n",
      "(60000,)\n"
     ]
    }
   ],
   "source": [
    "# Undoes the one-hot encoding: \n",
    "train_labels_int = np.argmax(train_labels, axis=1)\n",
    "test_labels_int = np.argmax(test_labels, axis=1)\n",
    "# print(train_labels_int)\n",
    "# print(test_labels_int)\n",
    "# print(train_labels.shape)\n",
    "# print(train_labels_int.shape)\n",
    "\n",
    "# #To confirme the one-hot encoding is being undone properly\n",
    "# print(train_labels[1:10])\n",
    "# #The below should only contain values in the range 0-9:\n",
    "# print(train_labels_int)\n"
   ]
  },
  {
   "cell_type": "markdown",
   "metadata": {},
   "source": [
    "Confiring that the one-hot doing an undoing is working properly:"
   ]
  },
  {
   "cell_type": "code",
   "execution_count": 31,
   "metadata": {},
   "outputs": [
    {
     "name": "stdout",
     "output_type": "stream",
     "text": [
      "[[0. 0. 0. ... 0. 0. 0.]\n",
      " [1. 0. 0. ... 0. 0. 0.]\n",
      " [0. 0. 0. ... 0. 0. 0.]\n",
      " ...\n",
      " [0. 0. 0. ... 0. 0. 0.]\n",
      " [0. 0. 0. ... 0. 0. 0.]\n",
      " [0. 0. 0. ... 0. 1. 0.]]\n"
     ]
    }
   ],
   "source": []
  },
  {
   "cell_type": "code",
   "execution_count": 24,
   "metadata": {},
   "outputs": [
    {
     "name": "stdout",
     "output_type": "stream",
     "text": [
      "Decision Tree Classifier Accuracy: 0.8247\n",
      "Classification Report:\n",
      "               precision    recall  f1-score   support\n",
      "\n",
      "           0       0.88      0.87      0.87       980\n",
      "           1       0.96      0.96      0.96      1135\n",
      "           2       0.84      0.84      0.84      1032\n",
      "           3       0.79      0.81      0.80      1010\n",
      "           4       0.79      0.78      0.78       982\n",
      "           5       0.76      0.74      0.75       892\n",
      "           6       0.91      0.90      0.90       958\n",
      "           7       0.85      0.85      0.85      1028\n",
      "           8       0.75      0.75      0.75       974\n",
      "           9       0.70      0.73      0.72      1009\n",
      "\n",
      "    accuracy                           0.82     10000\n",
      "   macro avg       0.82      0.82      0.82     10000\n",
      "weighted avg       0.83      0.82      0.82     10000\n",
      "\n"
     ]
    }
   ],
   "source": [
    "# Initialize and train the Decision Tree classifier\n",
    "decision_tree = DecisionTreeClassifier(random_state=42)\n",
    "decision_tree.fit(train_features, train_labels_int)\n",
    "\n",
    "# Predict on the test data\n",
    "test_predictions = decision_tree.predict(test_features)\n",
    "\n",
    "# Evaluate the classifier\n",
    "accuracy = accuracy_score(test_labels_int, test_predictions)\n",
    "report = classification_report(test_labels_int, test_predictions)\n",
    "\n",
    "print(f\"Decision Tree Classifier Accuracy: {accuracy}\")\n",
    "print(\"Classification Report:\\n\", report)"
   ]
  },
  {
   "cell_type": "markdown",
   "metadata": {},
   "source": [
    "More.\n",
    "\n",
    "THIS TREE IS GIANT, depth 32????"
   ]
  },
  {
   "cell_type": "code",
   "execution_count": 36,
   "metadata": {},
   "outputs": [
    {
     "name": "stdout",
     "output_type": "stream",
     "text": [
      "Number of nodes in the tree: 13493\n",
      "Depth of the tree: 32\n",
      "Number of leaf nodes: 6747\n"
     ]
    }
   ],
   "source": [
    "# After you have trained your decision tree:\n",
    "number_of_nodes = decision_tree.tree_.node_count\n",
    "depth_of_tree = decision_tree.tree_.max_depth\n",
    "number_of_leaves = decision_tree.get_n_leaves()\n",
    "\n",
    "print(f\"Number of nodes in the tree: {number_of_nodes}\")\n",
    "print(f\"Depth of the tree: {depth_of_tree}\")\n",
    "print(f\"Number of leaf nodes: {number_of_leaves}\")\n"
   ]
  }
 ],
 "metadata": {
  "kernelspec": {
   "display_name": "Python 3",
   "language": "python",
   "name": "python3"
  },
  "language_info": {
   "codemirror_mode": {
    "name": "ipython",
    "version": 3
   },
   "file_extension": ".py",
   "mimetype": "text/x-python",
   "name": "python",
   "nbconvert_exporter": "python",
   "pygments_lexer": "ipython3",
   "version": "3.11.8"
  }
 },
 "nbformat": 4,
 "nbformat_minor": 2
}
